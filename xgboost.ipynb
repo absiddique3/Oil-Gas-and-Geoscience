{
 "cells": [
  {
   "cell_type": "code",
   "execution_count": 29,
   "metadata": {},
   "outputs": [],
   "source": [
    "import numpy as np\n",
    "import pandas as pd\n",
    "import matplotlib.pyplot as plt\n",
    "import seaborn as sns\n",
    "%matplotlib inline\n",
    "sns.set()"
   ]
  },
  {
   "cell_type": "code",
   "execution_count": 30,
   "metadata": {},
   "outputs": [],
   "source": [
    "df=pd.read_excel(r'illite.xlsx')"
   ]
  },
  {
   "cell_type": "code",
   "execution_count": 31,
   "metadata": {},
   "outputs": [
    {
     "data": {
      "text/plain": [
       "((206, 6), (206,))"
      ]
     },
     "execution_count": 31,
     "metadata": {},
     "output_type": "execute_result"
    }
   ],
   "source": [
    "# selecting features and label\n",
    "X = df.iloc[:, :-1]  # features\n",
    "y = df.iloc[:,-1]  # label\n",
    "X.shape, y.shape"
   ]
  },
  {
   "cell_type": "code",
   "execution_count": 32,
   "metadata": {},
   "outputs": [],
   "source": [
    "# spliting into training and testing set for both X and y\n",
    "from sklearn.model_selection import train_test_split\n",
    "from sklearn.preprocessing import PolynomialFeatures\n",
    "from sklearn.model_selection import train_test_split\n",
    "# Define features (X) and label (y)\n",
    "X = df.iloc[:, :-1]  # Features\n",
    "y = df.iloc[:, -1]   # Label\n",
    "\n",
    "# Split the dataset into training and testing sets\n",
    "X_train, X_test, y_train, y_test = train_test_split(X, y, test_size=0.30, random_state=10)\n",
    "\n",
    "# Apply Polynomial Features\n",
    "degree = 2  # You can change the degree based on your requirement\n",
    "poly = PolynomialFeatures(degree=degree, include_bias=False)\n",
    "X_train_poly = poly.fit_transform(X_train)\n",
    "X_test_poly = poly.transform(X_test)"
   ]
  },
  {
   "cell_type": "code",
   "execution_count": 33,
   "metadata": {},
   "outputs": [],
   "source": [
    "# function to convert seconds to into hours, minutes and seconds\n",
    "# this function is used to measure the time taking by the models\n",
    "def convert(seconds):\n",
    "    seconds = seconds % (24 * 3600)\n",
    "    hour = seconds // 3600\n",
    "    seconds %= 3600\n",
    "    minutes = seconds // 60\n",
    "    seconds %= 60\n",
    "    return \"%d:%02d:%02d\" % (hour, minutes, seconds)"
   ]
  },
  {
   "cell_type": "code",
   "execution_count": 34,
   "metadata": {},
   "outputs": [
    {
     "name": "stdout",
     "output_type": "stream",
     "text": [
      "Fitting 10 folds for each of 75 candidates, totalling 750 fits\n",
      "gridsearch_run_time: 0:02:46 h:m:s\n"
     ]
    }
   ],
   "source": [
    "# Loading the svr model from svm and GridSearchCV from model_selection\n",
    "from xgboost import XGBRegressor\n",
    "from sklearn.model_selection import GridSearchCV\n",
    "import time\n",
    "\n",
    "regr = GridSearchCV(\n",
    "    XGBRegressor(),\n",
    "    {\n",
    "        'n_estimators': [40,50,60,80,100],\n",
    "        'max_depth': [5,8,10,12,15],\n",
    "        #grow_policy': [0,1],\n",
    "        'learning_rate': [0.001,0.01,0.1],\n",
    "     \n",
    "    }, \n",
    "    cv=10, \n",
    "    scoring=['neg_mean_squared_error', 'r2'], \n",
    "    refit='r2',\n",
    "    verbose=1)\n",
    "\n",
    "start = time.time()\n",
    "# enter your code below this line to calculate time it take\n",
    "\n",
    "#Fit the model\n",
    "regr.fit(X_train_poly, y_train, eval_set=[(X_test_poly, y_test)], verbose=False)\n",
    "\n",
    "# enter you code above this line  to calculate time it take   \n",
    "end = time.time()\n",
    "\n",
    "print('gridsearch_run_time:', convert(end-start), 'h:m:s')\n",
    "\n",
    "#regr.cv_results_"
   ]
  },
  {
   "cell_type": "code",
   "execution_count": 35,
   "metadata": {},
   "outputs": [],
   "source": [
    "import os\n",
    "\n",
    "# Create the output/cnn directory if it doesn't exist\n",
    "output_dir = \"./output/xgboost\"\n",
    "os.makedirs(output_dir, exist_ok=True)"
   ]
  },
  {
   "cell_type": "code",
   "execution_count": 36,
   "metadata": {},
   "outputs": [
    {
     "data": {
      "text/html": [
       "<div>\n",
       "<style scoped>\n",
       "    .dataframe tbody tr th:only-of-type {\n",
       "        vertical-align: middle;\n",
       "    }\n",
       "\n",
       "    .dataframe tbody tr th {\n",
       "        vertical-align: top;\n",
       "    }\n",
       "\n",
       "    .dataframe thead th {\n",
       "        text-align: right;\n",
       "    }\n",
       "</style>\n",
       "<table border=\"1\" class=\"dataframe\">\n",
       "  <thead>\n",
       "    <tr style=\"text-align: right;\">\n",
       "      <th></th>\n",
       "      <th>param_max_depth</th>\n",
       "      <th>param_n_estimators</th>\n",
       "      <th>param_learning_rate</th>\n",
       "      <th>mean_test_r2</th>\n",
       "      <th>mean_test_neg_mean_squared_error</th>\n",
       "    </tr>\n",
       "  </thead>\n",
       "  <tbody>\n",
       "    <tr>\n",
       "      <th>0</th>\n",
       "      <td>5</td>\n",
       "      <td>40</td>\n",
       "      <td>0.001</td>\n",
       "      <td>-0.047234</td>\n",
       "      <td>-28.391930</td>\n",
       "    </tr>\n",
       "    <tr>\n",
       "      <th>1</th>\n",
       "      <td>5</td>\n",
       "      <td>50</td>\n",
       "      <td>0.001</td>\n",
       "      <td>-0.043531</td>\n",
       "      <td>-28.309539</td>\n",
       "    </tr>\n",
       "    <tr>\n",
       "      <th>2</th>\n",
       "      <td>5</td>\n",
       "      <td>60</td>\n",
       "      <td>0.001</td>\n",
       "      <td>-0.039840</td>\n",
       "      <td>-28.227917</td>\n",
       "    </tr>\n",
       "    <tr>\n",
       "      <th>3</th>\n",
       "      <td>5</td>\n",
       "      <td>80</td>\n",
       "      <td>0.001</td>\n",
       "      <td>-0.032793</td>\n",
       "      <td>-28.072944</td>\n",
       "    </tr>\n",
       "    <tr>\n",
       "      <th>4</th>\n",
       "      <td>5</td>\n",
       "      <td>100</td>\n",
       "      <td>0.001</td>\n",
       "      <td>-0.026176</td>\n",
       "      <td>-27.931166</td>\n",
       "    </tr>\n",
       "    <tr>\n",
       "      <th>...</th>\n",
       "      <td>...</td>\n",
       "      <td>...</td>\n",
       "      <td>...</td>\n",
       "      <td>...</td>\n",
       "      <td>...</td>\n",
       "    </tr>\n",
       "    <tr>\n",
       "      <th>70</th>\n",
       "      <td>15</td>\n",
       "      <td>40</td>\n",
       "      <td>0.100</td>\n",
       "      <td>-0.056736</td>\n",
       "      <td>-29.418380</td>\n",
       "    </tr>\n",
       "    <tr>\n",
       "      <th>71</th>\n",
       "      <td>15</td>\n",
       "      <td>50</td>\n",
       "      <td>0.100</td>\n",
       "      <td>-0.071255</td>\n",
       "      <td>-29.836510</td>\n",
       "    </tr>\n",
       "    <tr>\n",
       "      <th>72</th>\n",
       "      <td>15</td>\n",
       "      <td>60</td>\n",
       "      <td>0.100</td>\n",
       "      <td>-0.079102</td>\n",
       "      <td>-30.044209</td>\n",
       "    </tr>\n",
       "    <tr>\n",
       "      <th>73</th>\n",
       "      <td>15</td>\n",
       "      <td>80</td>\n",
       "      <td>0.100</td>\n",
       "      <td>-0.085853</td>\n",
       "      <td>-30.224253</td>\n",
       "    </tr>\n",
       "    <tr>\n",
       "      <th>74</th>\n",
       "      <td>15</td>\n",
       "      <td>100</td>\n",
       "      <td>0.100</td>\n",
       "      <td>-0.088468</td>\n",
       "      <td>-30.289706</td>\n",
       "    </tr>\n",
       "  </tbody>\n",
       "</table>\n",
       "<p>75 rows × 5 columns</p>\n",
       "</div>"
      ],
      "text/plain": [
       "    param_max_depth  param_n_estimators  param_learning_rate  mean_test_r2  \\\n",
       "0                 5                  40                0.001     -0.047234   \n",
       "1                 5                  50                0.001     -0.043531   \n",
       "2                 5                  60                0.001     -0.039840   \n",
       "3                 5                  80                0.001     -0.032793   \n",
       "4                 5                 100                0.001     -0.026176   \n",
       "..              ...                 ...                  ...           ...   \n",
       "70               15                  40                0.100     -0.056736   \n",
       "71               15                  50                0.100     -0.071255   \n",
       "72               15                  60                0.100     -0.079102   \n",
       "73               15                  80                0.100     -0.085853   \n",
       "74               15                 100                0.100     -0.088468   \n",
       "\n",
       "    mean_test_neg_mean_squared_error  \n",
       "0                         -28.391930  \n",
       "1                         -28.309539  \n",
       "2                         -28.227917  \n",
       "3                         -28.072944  \n",
       "4                         -27.931166  \n",
       "..                               ...  \n",
       "70                        -29.418380  \n",
       "71                        -29.836510  \n",
       "72                        -30.044209  \n",
       "73                        -30.224253  \n",
       "74                        -30.289706  \n",
       "\n",
       "[75 rows x 5 columns]"
      ]
     },
     "execution_count": 36,
     "metadata": {},
     "output_type": "execute_result"
    }
   ],
   "source": [
    "# converting the results to a readable format using dataFrame\n",
    "df = pd.DataFrame(regr.cv_results_)\n",
    "# getting all parameter combinations and their performance result\n",
    "result = df[['param_max_depth',  'param_n_estimators',\n",
    "             'param_learning_rate', \n",
    "            'mean_test_r2', 'mean_test_neg_mean_squared_error']]\n",
    "result.to_csv('./output/xgboost/performance_result_for_xgboost_gridsearchCV.csv')\n",
    "result"
   ]
  },
  {
   "cell_type": "code",
   "execution_count": 37,
   "metadata": {},
   "outputs": [
    {
     "name": "stdout",
     "output_type": "stream",
     "text": [
      "{'learning_rate': 0.01, 'max_depth': 5, 'n_estimators': 100}\n",
      "0.08910192042773019\n"
     ]
    }
   ],
   "source": [
    "# printing the best combination of parameter that perform the best\n",
    "print(regr.best_params_)\n",
    "\n",
    "# the best performing score\n",
    "print(regr.best_score_)"
   ]
  },
  {
   "cell_type": "code",
   "execution_count": 38,
   "metadata": {},
   "outputs": [
    {
     "name": "stderr",
     "output_type": "stream",
     "text": [
      "c:\\Users\\Asus\\anaconda3\\Lib\\site-packages\\xgboost\\core.py:158: UserWarning: [00:51:06] WARNING: C:\\buildkite-agent\\builds\\buildkite-windows-cpu-autoscaling-group-i-0c55ff5f71b100e98-1\\xgboost\\xgboost-ci-windows\\src\\learner.cc:740: \n",
      "Parameters: { \"verbose\" } are not used.\n",
      "\n",
      "  warnings.warn(smsg, UserWarning)\n"
     ]
    },
    {
     "name": "stdout",
     "output_type": "stream",
     "text": [
      "training_run_time: 0:00:00 h:m:s\n"
     ]
    }
   ],
   "source": [
    "import time\n",
    "from xgboost import XGBRegressor\n",
    "\n",
    "regressor = XGBRegressor(n_estimators=regr.best_params_['n_estimators'],\n",
    "                                    max_depth=regr.best_params_['max_depth'],\n",
    "                                    \n",
    "                                    learning_rate=regr.best_params_['learning_rate'],\n",
    "                                   \n",
    "                                    verbose=0)\n",
    "\n",
    "start = time.time() # starting of the time\n",
    "regressor.fit(X_train_poly, y_train, eval_set=[(X_test_poly, y_test)], verbose=False) # fit/train the model\n",
    "\n",
    "\n",
    "end = time.time() # ending of the time\n",
    "print('training_run_time:', convert(end - start), 'h:m:s')\n",
    "\n",
    "pred_1 = regressor.predict(X_train_poly) # prediction for training set\n",
    "pred_2 = regressor.predict(X_test_poly) # prediction for testing set\n"
   ]
  },
  {
   "cell_type": "code",
   "execution_count": 39,
   "metadata": {},
   "outputs": [],
   "source": [
    "# saving training, testing and y data with their predicted data in a excel file with different sheets\n",
    "a = np.stack([y_train, pred_1], axis=1) # training\n",
    "a = pd.DataFrame(a, columns=['y_train', 'y_train_pred'])\n",
    "\n",
    "b = np.stack([y_test, pred_2], axis=1) # testing \n",
    "b = pd.DataFrame(b, columns=['y_test', 'y_test_pred'])\n",
    "\n",
    "\n",
    "with pd.ExcelWriter(\"./output/xgboost/predicted_xgboost_model.xlsx\") as writer:\n",
    "    # use to_excel function and specify the sheet_name and index\n",
    "    # to store the dataframe in specified sheet\n",
    "    a.to_excel(writer, sheet_name=\"training\", index=True)\n",
    "    b.to_excel(writer, sheet_name=\"testing\", index=True)\n",
    "  "
   ]
  },
  {
   "cell_type": "code",
   "execution_count": 40,
   "metadata": {},
   "outputs": [
    {
     "data": {
      "text/html": [
       "<div>\n",
       "<style scoped>\n",
       "    .dataframe tbody tr th:only-of-type {\n",
       "        vertical-align: middle;\n",
       "    }\n",
       "\n",
       "    .dataframe tbody tr th {\n",
       "        vertical-align: top;\n",
       "    }\n",
       "\n",
       "    .dataframe thead th {\n",
       "        text-align: right;\n",
       "    }\n",
       "</style>\n",
       "<table border=\"1\" class=\"dataframe\">\n",
       "  <thead>\n",
       "    <tr style=\"text-align: right;\">\n",
       "      <th></th>\n",
       "      <th>0</th>\n",
       "      <th>1</th>\n",
       "      <th>2</th>\n",
       "      <th>3</th>\n",
       "      <th>4</th>\n",
       "      <th>5</th>\n",
       "      <th>6</th>\n",
       "    </tr>\n",
       "  </thead>\n",
       "  <tbody>\n",
       "    <tr>\n",
       "      <th>performance_metrics</th>\n",
       "      <td>R2</td>\n",
       "      <td>MAE</td>\n",
       "      <td>MSE</td>\n",
       "      <td>MAPE</td>\n",
       "      <td>EV</td>\n",
       "      <td>maxE</td>\n",
       "      <td>minE</td>\n",
       "    </tr>\n",
       "    <tr>\n",
       "      <th>training</th>\n",
       "      <td>0.662902</td>\n",
       "      <td>2.418983</td>\n",
       "      <td>9.579868</td>\n",
       "      <td>0.340441</td>\n",
       "      <td>0.662986</td>\n",
       "      <td>10.711189</td>\n",
       "      <td>0.01531</td>\n",
       "    </tr>\n",
       "    <tr>\n",
       "      <th>testing</th>\n",
       "      <td>0.45344</td>\n",
       "      <td>2.898638</td>\n",
       "      <td>15.638505</td>\n",
       "      <td>0.328095</td>\n",
       "      <td>0.454666</td>\n",
       "      <td>12.885036</td>\n",
       "      <td>0.061711</td>\n",
       "    </tr>\n",
       "  </tbody>\n",
       "</table>\n",
       "</div>"
      ],
      "text/plain": [
       "                            0         1          2         3         4  \\\n",
       "performance_metrics        R2       MAE        MSE      MAPE        EV   \n",
       "training             0.662902  2.418983   9.579868  0.340441  0.662986   \n",
       "testing               0.45344  2.898638  15.638505  0.328095  0.454666   \n",
       "\n",
       "                             5         6  \n",
       "performance_metrics       maxE      minE  \n",
       "training             10.711189   0.01531  \n",
       "testing              12.885036  0.061711  "
      ]
     },
     "execution_count": 40,
     "metadata": {},
     "output_type": "execute_result"
    }
   ],
   "source": [
    "from sklearn.metrics import r2_score\n",
    "from sklearn.metrics import mean_absolute_error\n",
    "from sklearn.metrics import mean_squared_error\n",
    "from sklearn.metrics import mean_absolute_percentage_error\n",
    "from sklearn.metrics import explained_variance_score\n",
    "from sklearn.metrics import max_error\n",
    "\n",
    "train_r2 = r2_score(y_train,pred_1) # r2_score for training set\n",
    "train_mae = mean_absolute_error(y_train, pred_1) # mean absolute error for training set\n",
    "train_mse = mean_squared_error(y_train, pred_1) # mean squared error for training set\n",
    "train_mape = mean_absolute_percentage_error(y_train, pred_1) # mean_absolute_percentage_error for training set\n",
    "train_ev = explained_variance_score(y_train, pred_1) \n",
    "train_maxE = max_error(y_train, pred_1)\n",
    "train_minE = min(abs(y_train - pred_1))\n",
    "\n",
    "test_r2 = r2_score(y_test, pred_2) # r2_score for testing set\n",
    "test_mae = mean_absolute_error(y_test, pred_2) # mean absolute error for testing set\n",
    "test_mse = mean_squared_error(y_test, pred_2) # mean squared error for testing set\n",
    "test_mape = mean_absolute_percentage_error(y_test, pred_2) # mean_absolute_percentage_error for testing set\n",
    "test_ev = explained_variance_score(y_test, pred_2) \n",
    "test_maxE = max_error(y_test, pred_2)\n",
    "test_minE = min(abs(y_test - pred_2))\n",
    "\n",
    "\n",
    "metrics = {\n",
    "'performance_metrics': ['R2', 'MAE', 'MSE', 'MAPE', 'EV', 'maxE', 'minE'],\n",
    "'training': [train_r2, train_mae, train_mse, train_mape, train_ev, train_maxE, train_minE],\n",
    "'testing': [test_r2, test_mae, test_mse, test_mape, test_ev, test_maxE, test_minE],\n",
    "\n",
    "}\n",
    "\n",
    "performance_metrics = pd.DataFrame(metrics)\n",
    "performance = performance_metrics.transpose()\n",
    "performance.to_csv('./output/xgboost/performance_xgboost.csv')\n",
    "performance"
   ]
  },
  {
   "cell_type": "code",
   "execution_count": 41,
   "metadata": {},
   "outputs": [
    {
     "data": {
      "text/plain": [
       "['./output/xgboost/trained_xgboost_model.joblib']"
      ]
     },
     "execution_count": 41,
     "metadata": {},
     "output_type": "execute_result"
    }
   ],
   "source": [
    "#from sklearn.externals import joblib\n",
    "from joblib import dump, load\n",
    "dump(regressor, './output/xgboost/trained_xgboost_model.joblib')\n",
    "\n",
    "#clf = load('trained_linear_regression_model.joblib')"
   ]
  },
  {
   "cell_type": "code",
   "execution_count": 42,
   "metadata": {},
   "outputs": [],
   "source": [
    "from joblib import dump, load"
   ]
  }
 ],
 "metadata": {
  "kernelspec": {
   "display_name": "base",
   "language": "python",
   "name": "python3"
  },
  "language_info": {
   "codemirror_mode": {
    "name": "ipython",
    "version": 3
   },
   "file_extension": ".py",
   "mimetype": "text/x-python",
   "name": "python",
   "nbconvert_exporter": "python",
   "pygments_lexer": "ipython3",
   "version": "3.12.7"
  }
 },
 "nbformat": 4,
 "nbformat_minor": 4
}
