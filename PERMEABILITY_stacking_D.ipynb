{
 "cells": [
  {
   "cell_type": "code",
   "execution_count": 1,
   "id": "6780d83c-33e9-45a0-9bf6-67a135e63940",
   "metadata": {},
   "outputs": [],
   "source": [
    "import numpy as np\n",
    "import pandas as pd\n",
    "import matplotlib.pyplot as plt\n",
    "import seaborn as sns"
   ]
  },
  {
   "cell_type": "code",
   "execution_count": 2,
   "id": "4792f494-2bba-4eff-9dec-1e72dce8f49c",
   "metadata": {},
   "outputs": [],
   "source": [
    "RANDOM_SEED = 23"
   ]
  },
  {
   "cell_type": "code",
   "execution_count": 3,
   "id": "9379c0d7-ea08-4765-8a2f-4bd978124932",
   "metadata": {},
   "outputs": [],
   "source": [
    "from sklearn.metrics import accuracy_score\n",
    "from sklearn.model_selection import GridSearchCV\n",
    "import scipy.stats as stats\n",
    "\n",
    "import warnings\n",
    "warnings.filterwarnings(\"ignore\")"
   ]
  },
  {
   "cell_type": "code",
   "execution_count": 4,
   "id": "a4e8c95f-d839-4388-8b68-974211f0b09d",
   "metadata": {},
   "outputs": [],
   "source": [
    "from mlxtend.regressor import StackingCVRegressor\n",
    "from sklearn.neural_network import MLPRegressor\n",
    "from xgboost import XGBRegressor\n",
    "from sklearn.ensemble import AdaBoostRegressor\n",
    "from sklearn.ensemble import GradientBoostingRegressor\n",
    "\n",
    "gb = GradientBoostingRegressor()\n",
    "ab = AdaBoostRegressor()\n",
    "xgb = XGBRegressor()\n",
    "\n",
    "mlp = MLPRegressor(hidden_layer_sizes = (30, 10, 5),\n",
    "                   activation='relu',\n",
    "                   solver='adam',\n",
    "                   max_iter=500,\n",
    "                   random_state=RANDOM_SEED)"
   ]
  },
  {
   "cell_type": "code",
   "execution_count": 5,
   "id": "4fd187e5-813c-42db-8f92-c8bb76cd077b",
   "metadata": {},
   "outputs": [],
   "source": [
    "param_grid = {\n",
    "        'meta_regressor__n_estimators': [50, 100],\n",
    "        # 'randomforestregressor__max_depth': [10, 15, 20, 25, 30, None],\n",
    "        # 'xgbregressor__n_estimators': [50, 100]\n",
    "        # 'meta_regressor__n_estimators': [100, 300, 400, 500, 600, 700, 800],\n",
    "        # 'xgbregressor__max_depth': [ 5, 7, 9, None],\n",
    "}"
   ]
  },
  {
   "cell_type": "markdown",
   "id": "79ddd2f9-8813-41cf-8b12-a37c774de46f",
   "metadata": {},
   "source": [
    "## Name a folder where all results will be stored for further inquiry"
   ]
  },
  {
   "cell_type": "markdown",
   "id": "671daae4-1eaf-41d0-85f8-ed9a69938f25",
   "metadata": {},
   "source": [
    "1. (gb, mlp, ab) (xgb)\n",
    "2. (ab, xgb, gb) (mlp)\n",
    "3. (xgb, gb, xgb) (ab)\n",
    "4. (xgb, ab, mlp) (gb)"
   ]
  },
  {
   "cell_type": "code",
   "execution_count": 6,
   "id": "aef1a7a4-15b4-4d93-89b4-7bbcd9b14305",
   "metadata": {},
   "outputs": [],
   "source": [
    "folder_name = 'xgb_ab_mlp-gb' # 4"
   ]
  },
  {
   "cell_type": "code",
   "execution_count": 7,
   "id": "46938a30-6dc1-4409-8633-98aa21257665",
   "metadata": {},
   "outputs": [],
   "source": [
    "level_1_regressor = (xgb, ab, mlp)\n",
    "meta_regressor = gb "
   ]
  },
  {
   "cell_type": "code",
   "execution_count": 8,
   "id": "7ff2f6ea-4841-4207-8376-e764f4c3c256",
   "metadata": {},
   "outputs": [],
   "source": [
    "import os\n",
    "\n",
    "output_dir = \"./output/\" + folder_name + '/'\n",
    "os.makedirs(output_dir, exist_ok=True)"
   ]
  },
  {
   "cell_type": "markdown",
   "id": "0052cdc6-d3a0-4e3d-8e00-10efd686422e",
   "metadata": {},
   "source": [
    "#### Setting"
   ]
  },
  {
   "cell_type": "code",
   "execution_count": 9,
   "id": "7f3a0f1b-242c-47e7-a99c-42ea35d95f5b",
   "metadata": {},
   "outputs": [],
   "source": [
    "grid_search_performance_score = 'grid_search_stacking_performance_score'\n",
    "grid_search_train_test_data = 'grid_search_stacking_train_test_data'\n",
    "grid_search_trained_model = 'grid_search_trained_stacking_model'"
   ]
  },
  {
   "cell_type": "code",
   "execution_count": 10,
   "id": "29492fd7-553d-4e3b-98f5-f0fbeb7475d3",
   "metadata": {},
   "outputs": [
    {
     "data": {
      "text/html": [
       "<div>\n",
       "<style scoped>\n",
       "    .dataframe tbody tr th:only-of-type {\n",
       "        vertical-align: middle;\n",
       "    }\n",
       "\n",
       "    .dataframe tbody tr th {\n",
       "        vertical-align: top;\n",
       "    }\n",
       "\n",
       "    .dataframe thead th {\n",
       "        text-align: right;\n",
       "    }\n",
       "</style>\n",
       "<table border=\"1\" class=\"dataframe\">\n",
       "  <thead>\n",
       "    <tr style=\"text-align: right;\">\n",
       "      <th></th>\n",
       "      <th>depth</th>\n",
       "      <th>porosity</th>\n",
       "      <th>gr_density</th>\n",
       "      <th>w_saturation</th>\n",
       "      <th>o_saturation</th>\n",
       "      <th>k</th>\n",
       "    </tr>\n",
       "  </thead>\n",
       "  <tbody>\n",
       "    <tr>\n",
       "      <th>0</th>\n",
       "      <td>2344.0</td>\n",
       "      <td>0.194</td>\n",
       "      <td>2680</td>\n",
       "      <td>0.398667</td>\n",
       "      <td>0.209000</td>\n",
       "      <td>132.00</td>\n",
       "    </tr>\n",
       "    <tr>\n",
       "      <th>1</th>\n",
       "      <td>2344.3</td>\n",
       "      <td>0.161</td>\n",
       "      <td>2710</td>\n",
       "      <td>0.537333</td>\n",
       "      <td>0.208182</td>\n",
       "      <td>4.48</td>\n",
       "    </tr>\n",
       "    <tr>\n",
       "      <th>2</th>\n",
       "      <td>2344.5</td>\n",
       "      <td>0.105</td>\n",
       "      <td>2710</td>\n",
       "      <td>0.676000</td>\n",
       "      <td>0.207364</td>\n",
       "      <td>0.06</td>\n",
       "    </tr>\n",
       "    <tr>\n",
       "      <th>3</th>\n",
       "      <td>2344.8</td>\n",
       "      <td>0.214</td>\n",
       "      <td>2670</td>\n",
       "      <td>0.284000</td>\n",
       "      <td>0.206545</td>\n",
       "      <td>63.40</td>\n",
       "    </tr>\n",
       "    <tr>\n",
       "      <th>4</th>\n",
       "      <td>2345.1</td>\n",
       "      <td>0.105</td>\n",
       "      <td>2710</td>\n",
       "      <td>0.676000</td>\n",
       "      <td>0.205727</td>\n",
       "      <td>0.06</td>\n",
       "    </tr>\n",
       "  </tbody>\n",
       "</table>\n",
       "</div>"
      ],
      "text/plain": [
       "    depth  porosity  gr_density  w_saturation  o_saturation       k\n",
       "0  2344.0     0.194        2680      0.398667      0.209000  132.00\n",
       "1  2344.3     0.161        2710      0.537333      0.208182    4.48\n",
       "2  2344.5     0.105        2710      0.676000      0.207364    0.06\n",
       "3  2344.8     0.214        2670      0.284000      0.206545   63.40\n",
       "4  2345.1     0.105        2710      0.676000      0.205727    0.06"
      ]
     },
     "execution_count": 10,
     "metadata": {},
     "output_type": "execute_result"
    }
   ],
   "source": [
    "df = pd.read_csv('../data/processed_l55_cubic.csv')\n",
    "df.head()"
   ]
  },
  {
   "cell_type": "code",
   "execution_count": 11,
   "id": "1dc4c034-4e48-4820-8eb0-f96d85e2e73e",
   "metadata": {},
   "outputs": [
    {
     "data": {
      "text/plain": [
       "((197, 5), (197,))"
      ]
     },
     "execution_count": 11,
     "metadata": {},
     "output_type": "execute_result"
    }
   ],
   "source": [
    "# selecting features and label\n",
    "X = df.iloc[:, :-1]  # features\n",
    "y = df.iloc[:,-1]  # label\n",
    "X.shape, y.shape"
   ]
  },
  {
   "cell_type": "markdown",
   "id": "a3575e36-33c1-48ce-9448-06a917eb9a69",
   "metadata": {},
   "source": [
    "#### Spliting into training and testing set for both X and y"
   ]
  },
  {
   "cell_type": "code",
   "execution_count": 12,
   "id": "575ae88e-ac32-4a0b-bc07-5ccb3f99e0e9",
   "metadata": {},
   "outputs": [],
   "source": [
    "from sklearn.model_selection import train_test_split\n",
    "X_train, X_test, y_train, y_test = train_test_split(X,y, test_size=0.25, random_state=RANDOM_SEED)"
   ]
  },
  {
   "cell_type": "code",
   "execution_count": 13,
   "id": "2e1ead76-8616-4a3b-be91-abf0a81b38dc",
   "metadata": {},
   "outputs": [],
   "source": [
    "# function to convert seconds to into hours, minutes and seconds\n",
    "# this function is used to measure the time taking by the models\n",
    "def convert(seconds):\n",
    "    seconds = seconds % (24 * 3600)\n",
    "    hour = seconds // 3600\n",
    "    seconds %= 3600\n",
    "    minutes = seconds // 60\n",
    "    seconds %= 60\n",
    "    return \"%d:%02d:%02d\" % (hour, minutes, seconds)"
   ]
  },
  {
   "cell_type": "code",
   "execution_count": 14,
   "id": "9c4d30b1-0682-477b-a88a-71322d11a263",
   "metadata": {},
   "outputs": [],
   "source": [
    "# Define a range of hidden layer sizes to search over\n",
    "# param_grid = {\n",
    "#     'hidden_layer_sizes': [(10,), (50,), (100,), (50, 30), (50, 50), (30, 20), (100, 50, 25)]\n",
    "# }"
   ]
  },
  {
   "cell_type": "code",
   "execution_count": 15,
   "id": "f0247dab-3482-4b6e-89a7-69774cd6d501",
   "metadata": {},
   "outputs": [],
   "source": [
    "stack = StackingCVRegressor(regressors= level_1_regressor,\n",
    "                            meta_regressor = meta_regressor, \n",
    "                            random_state=RANDOM_SEED,\n",
    "                            use_features_in_secondary=True)"
   ]
  },
  {
   "cell_type": "markdown",
   "id": "0ccbf0e1-a737-40e2-9ce5-2d653f48a0a5",
   "metadata": {},
   "source": [
    "## Grid Search"
   ]
  },
  {
   "cell_type": "code",
   "execution_count": 16,
   "id": "6842cb68-4128-480c-ac57-02374f83828b",
   "metadata": {},
   "outputs": [],
   "source": [
    "grid_search = GridSearchCV(\n",
    "    estimator=stack,\n",
    "    param_grid=param_grid,\n",
    "    cv=5,\n",
    "    scoring=['neg_mean_squared_error', 'r2'], \n",
    "    refit='r2'\n",
    ")"
   ]
  },
  {
   "cell_type": "code",
   "execution_count": 17,
   "id": "51dda828-669b-4fd8-968a-6ca8a5433a12",
   "metadata": {},
   "outputs": [],
   "source": [
    "# grid_search.get_params()"
   ]
  },
  {
   "cell_type": "code",
   "execution_count": 18,
   "id": "9be24780-77d6-486a-9b95-3630b144f8e0",
   "metadata": {},
   "outputs": [
    {
     "name": "stdout",
     "output_type": "stream",
     "text": [
      "run_time: 0:00:06 h:m:s\n"
     ]
    }
   ],
   "source": [
    "import time\n",
    "start = time.time() # starting of the time\n",
    "grid_search.fit(X_train, y_train)\n",
    "end = time.time() # ending of the time\n",
    "\n",
    "print('run_time:', convert(end - start), 'h:m:s')"
   ]
  },
  {
   "cell_type": "code",
   "execution_count": 19,
   "id": "e74a0770-7f89-4a13-9be1-356b00bd92b9",
   "metadata": {},
   "outputs": [],
   "source": [
    "# Save training time to a text file\n",
    "with open(output_dir + 'grid_search_stacking_training_time.txt', 'w') as file:\n",
    "    file.write(f\"grid search stacking training time: {convert(end-start)} h:m:s\\n\")"
   ]
  },
  {
   "cell_type": "code",
   "execution_count": 20,
   "id": "f60fbe0f-7033-4008-a4c1-a9b9492d1203",
   "metadata": {},
   "outputs": [],
   "source": [
    "pred_1 = grid_search.predict(X_train) # prediction for training set\n",
    "pred_2 = grid_search.predict(X_test) # prediction for testing set"
   ]
  },
  {
   "cell_type": "code",
   "execution_count": 21,
   "id": "d971fa8e-a647-4077-9f98-09c16de4863c",
   "metadata": {},
   "outputs": [],
   "source": [
    "# saving training, testing and y data with their predicted data in a excel file with different sheets\n",
    "a = np.stack([y_train, pred_1], axis=1) # training\n",
    "a = pd.DataFrame(a, columns=['y_train', 'y_train_pred'])\n",
    "\n",
    "b = np.stack([y_test, pred_2], axis=1) # testing \n",
    "b = pd.DataFrame(b, columns=['y_test', 'y_test_pred'])\n",
    "\n",
    "with pd.ExcelWriter(output_dir + grid_search_train_test_data + '.xlsx') as writer:\n",
    "    # use to_excel function and specify the sheet_name and index\n",
    "    # to store the dataframe in specified sheet\n",
    "    a.to_excel(writer, sheet_name=\"training\", index=True)\n",
    "    b.to_excel(writer, sheet_name=\"testing\", index=True)"
   ]
  },
  {
   "cell_type": "code",
   "execution_count": 22,
   "id": "73867e4b-4608-4418-ae4e-c0eb05a53201",
   "metadata": {},
   "outputs": [
    {
     "data": {
      "text/html": [
       "<div>\n",
       "<style scoped>\n",
       "    .dataframe tbody tr th:only-of-type {\n",
       "        vertical-align: middle;\n",
       "    }\n",
       "\n",
       "    .dataframe tbody tr th {\n",
       "        vertical-align: top;\n",
       "    }\n",
       "\n",
       "    .dataframe thead th {\n",
       "        text-align: right;\n",
       "    }\n",
       "</style>\n",
       "<table border=\"1\" class=\"dataframe\">\n",
       "  <thead>\n",
       "    <tr style=\"text-align: right;\">\n",
       "      <th></th>\n",
       "      <th>0</th>\n",
       "      <th>1</th>\n",
       "      <th>2</th>\n",
       "      <th>3</th>\n",
       "      <th>4</th>\n",
       "      <th>5</th>\n",
       "    </tr>\n",
       "  </thead>\n",
       "  <tbody>\n",
       "    <tr>\n",
       "      <th>performance_metrics</th>\n",
       "      <td>R2</td>\n",
       "      <td>MAE</td>\n",
       "      <td>RMSE</td>\n",
       "      <td>MAPE</td>\n",
       "      <td>maxE</td>\n",
       "      <td>minE</td>\n",
       "    </tr>\n",
       "    <tr>\n",
       "      <th>training</th>\n",
       "      <td>0.983254</td>\n",
       "      <td>10.335298</td>\n",
       "      <td>17.667392</td>\n",
       "      <td>37.064392</td>\n",
       "      <td>82.713286</td>\n",
       "      <td>0.033327</td>\n",
       "    </tr>\n",
       "    <tr>\n",
       "      <th>testing</th>\n",
       "      <td>0.92967</td>\n",
       "      <td>13.478144</td>\n",
       "      <td>28.290733</td>\n",
       "      <td>124.611484</td>\n",
       "      <td>125.662506</td>\n",
       "      <td>0.078222</td>\n",
       "    </tr>\n",
       "  </tbody>\n",
       "</table>\n",
       "</div>"
      ],
      "text/plain": [
       "                            0          1          2           3           4  \\\n",
       "performance_metrics        R2        MAE       RMSE        MAPE        maxE   \n",
       "training             0.983254  10.335298  17.667392   37.064392   82.713286   \n",
       "testing               0.92967  13.478144  28.290733  124.611484  125.662506   \n",
       "\n",
       "                            5  \n",
       "performance_metrics      minE  \n",
       "training             0.033327  \n",
       "testing              0.078222  "
      ]
     },
     "execution_count": 22,
     "metadata": {},
     "output_type": "execute_result"
    }
   ],
   "source": [
    "from sklearn.metrics import r2_score\n",
    "from sklearn.metrics import mean_absolute_error\n",
    "from sklearn.metrics import mean_squared_error\n",
    "from sklearn.metrics import max_error\n",
    "from sklearn.metrics import mean_absolute_percentage_error\n",
    "\n",
    "train_r2 = r2_score(y_train,pred_1) # r2_score for training set\n",
    "train_mae = mean_absolute_error(y_train, pred_1) # mean absolute error for training set\n",
    "train_mse = mean_squared_error(y_train, pred_1) # mean squared error for training set\n",
    "train_rmse = np.sqrt(mean_squared_error(y_train, pred_1)) # mean squared error for training set\n",
    "train_mape = mean_absolute_percentage_error(y_train, pred_1)\n",
    "train_maxE = max_error(y_train, pred_1)\n",
    "train_minE = np.min(abs(y_train - pred_1))\n",
    "\n",
    "test_r2 = r2_score(y_test, pred_2) # r2_score for testing set\n",
    "test_mae = mean_absolute_error(y_test, pred_2) # mean absolute error for testing set\n",
    "train_mse = mean_squared_error(y_train, pred_1) # mean squared error for testing set\n",
    "test_rmse = np.sqrt(mean_squared_error(y_test, pred_2)) # mean squared error for testing set\n",
    "test_mape = mean_absolute_percentage_error(y_test, pred_2)\n",
    "test_maxE = max_error(y_test, pred_2)\n",
    "test_minE = np.min(abs(y_test - pred_2))\n",
    "\n",
    "metrics = {\n",
    "'performance_metrics': ['R2', 'MAE', 'RMSE', 'MAPE', 'maxE', 'minE'],\n",
    "'training': [train_r2, train_mae, train_rmse, train_mape, train_maxE, train_minE],\n",
    "'testing': [test_r2, test_mae, test_rmse, test_mape, test_maxE, test_minE],\n",
    "}\n",
    "\n",
    "performance_metrics = pd.DataFrame(metrics)\n",
    "performance = performance_metrics.transpose()\n",
    "performance.to_csv(output_dir + grid_search_performance_score + '.csv')\n",
    "performance"
   ]
  },
  {
   "cell_type": "code",
   "execution_count": 23,
   "id": "61537587-171c-4407-afa4-9452519707b1",
   "metadata": {},
   "outputs": [
    {
     "data": {
      "image/png": "[encoded data removed]",
      "text/plain": [
       "<Figure size 700x500 with 1 Axes>"
      ]
     },
     "metadata": {},
     "output_type": "display_data"
    }
   ],
   "source": [
    "plt.rcParams['mathtext.fontset'] = 'custom'\n",
    "plt.rcParams['mathtext.rm'] = 'Times New Roman'\n",
    "plt.rcParams['mathtext.it'] = 'Times New Roman'\n",
    "plt.rcParams['mathtext.bf'] = 'Times New Roman'\n",
    "plt.rcParams[\"font.family\"] = \"Times New Roman\"\n",
    "\n",
    "plt.figure(figsize=(7, 5))\n",
    "\n",
    "\n",
    "sns.regplot(x=y_train, y=pred_1, scatter_kws={\"color\": \"C3\", \"s\": 50, \"facecolors\": \"none\"}, \n",
    "            line_kws={\"color\": \"C3\", \"linestyle\": \"--\", \"linewidth\": 1.5},\n",
    "            label= 'train', ci=None, fit_reg=True)\n",
    "sns.regplot(x=y_test, y=pred_2, scatter_kws={\"color\": \"C0\", \"s\": 50}, \n",
    "            line_kws={\"color\": \"C0\", \"linestyle\": \"--\", \"linewidth\": 1.5}, \n",
    "            label = 'test', ci=None, fit_reg=True)\n",
    "plt.text(.05, .9, \"$R^2:$ {:.3f} (train)\".format(train_r2), fontsize=14, transform=plt.gca().transAxes)\n",
    "plt.text(.05, .83, \"$R^2:$ {:.3f} (test)\".format(test_r2), fontsize=14, transform=plt.gca().transAxes)\n",
    "plt.xlabel(\"Measured\", fontsize=17)\n",
    "plt.ylabel(\"Predicted\", fontsize=17)\n",
    "plt.xticks(fontsize=14)\n",
    "plt.yticks(fontsize=14)\n",
    "plt.legend(fontsize=14, loc=\"lower right\")\n",
    "\n",
    "plt.tight_layout()\n",
    "plt.savefig(output_dir + 'regression_plot.png', dpi=300)\n",
    "plt.show()"
   ]
  },
  {
   "cell_type": "code",
   "execution_count": 24,
   "id": "3468a1ce-d87b-4496-93ae-f1808cdc31ff",
   "metadata": {},
   "outputs": [
    {
     "data": {
      "text/plain": [
       "['./output/xgb_ab_mlp-gb/grid_search_trained_stacking_model.joblib']"
      ]
     },
     "execution_count": 24,
     "metadata": {},
     "output_type": "execute_result"
    }
   ],
   "source": [
    "# Saving the trained model\n",
    "from joblib import dump, load\n",
    "dump(grid_search, output_dir + grid_search_trained_model + '.joblib')\n",
    "\n",
    "#clf = load(output_dir + grid_search_trained_model + '.joblib')"
   ]
  },
  {
   "cell_type": "code",
   "execution_count": null,
   "id": "4f05f37b-beae-49b5-80bc-0769dd9459fd",
   "metadata": {},
   "outputs": [],
   "source": []
  }
 ],
 "metadata": {
  "kernelspec": {
   "display_name": "Python 3 (ipykernel)",
   "language": "python",
   "name": "python3"
  },
  "language_info": {
   "codemirror_mode": {
    "name": "ipython",
    "version": 3
   },
   "file_extension": ".py",
   "mimetype": "text/x-python",
   "name": "python",
   "nbconvert_exporter": "python",
   "pygments_lexer": "ipython3",
   "version": "3.11.3"
  }
 },
 "nbformat": 4,
 "nbformat_minor": 5
}
