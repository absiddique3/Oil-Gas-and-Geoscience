{
 "cells": [
  {
   "cell_type": "code",
   "execution_count": 12,
   "metadata": {},
   "outputs": [],
   "source": [
    "import numpy as np\n",
    "import pandas as pd\n",
    "import matplotlib.pyplot as plt\n",
    "import seaborn as sns"
   ]
  },
  {
   "cell_type": "markdown",
   "metadata": {},
   "source": [
    "### Read the csv file and checking the first five observation"
   ]
  },
  {
   "cell_type": "code",
   "execution_count": 13,
   "metadata": {
    "scrolled": true
   },
   "outputs": [
    {
     "data": {
      "text/html": [
       "<div>\n",
       "<style scoped>\n",
       "    .dataframe tbody tr th:only-of-type {\n",
       "        vertical-align: middle;\n",
       "    }\n",
       "\n",
       "    .dataframe tbody tr th {\n",
       "        vertical-align: top;\n",
       "    }\n",
       "\n",
       "    .dataframe thead th {\n",
       "        text-align: right;\n",
       "    }\n",
       "</style>\n",
       "<table border=\"1\" class=\"dataframe\">\n",
       "  <thead>\n",
       "    <tr style=\"text-align: right;\">\n",
       "      <th></th>\n",
       "      <th>DEPTH</th>\n",
       "      <th>CALI</th>\n",
       "      <th>DRHO</th>\n",
       "      <th>DT</th>\n",
       "      <th>DTS</th>\n",
       "      <th>NPHI</th>\n",
       "      <th>PEF</th>\n",
       "      <th>ROP</th>\n",
       "      <th>RT</th>\n",
       "      <th>KLOGH</th>\n",
       "      <th>PHIF</th>\n",
       "      <th>VSH</th>\n",
       "    </tr>\n",
       "  </thead>\n",
       "  <tbody>\n",
       "    <tr>\n",
       "      <th>0</th>\n",
       "      <td>4335.0</td>\n",
       "      <td>8.703</td>\n",
       "      <td>0.057</td>\n",
       "      <td>82.677</td>\n",
       "      <td>140.366</td>\n",
       "      <td>0.214</td>\n",
       "      <td>6.779</td>\n",
       "      <td>9.729</td>\n",
       "      <td>2.194</td>\n",
       "      <td>0.001</td>\n",
       "      <td>0.091</td>\n",
       "      <td>0.794</td>\n",
       "    </tr>\n",
       "    <tr>\n",
       "      <th>1</th>\n",
       "      <td>4335.1</td>\n",
       "      <td>8.687</td>\n",
       "      <td>0.057</td>\n",
       "      <td>81.456</td>\n",
       "      <td>139.508</td>\n",
       "      <td>0.216</td>\n",
       "      <td>6.800</td>\n",
       "      <td>10.004</td>\n",
       "      <td>2.261</td>\n",
       "      <td>0.001</td>\n",
       "      <td>0.088</td>\n",
       "      <td>0.785</td>\n",
       "    </tr>\n",
       "    <tr>\n",
       "      <th>2</th>\n",
       "      <td>4335.2</td>\n",
       "      <td>8.672</td>\n",
       "      <td>0.052</td>\n",
       "      <td>80.836</td>\n",
       "      <td>138.845</td>\n",
       "      <td>0.214</td>\n",
       "      <td>6.869</td>\n",
       "      <td>10.279</td>\n",
       "      <td>2.249</td>\n",
       "      <td>0.001</td>\n",
       "      <td>0.089</td>\n",
       "      <td>0.783</td>\n",
       "    </tr>\n",
       "    <tr>\n",
       "      <th>3</th>\n",
       "      <td>4335.3</td>\n",
       "      <td>8.672</td>\n",
       "      <td>0.046</td>\n",
       "      <td>81.743</td>\n",
       "      <td>138.684</td>\n",
       "      <td>0.209</td>\n",
       "      <td>6.956</td>\n",
       "      <td>10.554</td>\n",
       "      <td>2.231</td>\n",
       "      <td>0.001</td>\n",
       "      <td>0.090</td>\n",
       "      <td>0.765</td>\n",
       "    </tr>\n",
       "    <tr>\n",
       "      <th>4</th>\n",
       "      <td>4335.4</td>\n",
       "      <td>8.693</td>\n",
       "      <td>0.042</td>\n",
       "      <td>82.183</td>\n",
       "      <td>139.234</td>\n",
       "      <td>0.202</td>\n",
       "      <td>7.019</td>\n",
       "      <td>11.559</td>\n",
       "      <td>2.231</td>\n",
       "      <td>0.001</td>\n",
       "      <td>0.090</td>\n",
       "      <td>0.763</td>\n",
       "    </tr>\n",
       "  </tbody>\n",
       "</table>\n",
       "</div>"
      ],
      "text/plain": [
       "    DEPTH   CALI   DRHO      DT      DTS   NPHI    PEF     ROP     RT  KLOGH  \\\n",
       "0  4335.0  8.703  0.057  82.677  140.366  0.214  6.779   9.729  2.194  0.001   \n",
       "1  4335.1  8.687  0.057  81.456  139.508  0.216  6.800  10.004  2.261  0.001   \n",
       "2  4335.2  8.672  0.052  80.836  138.845  0.214  6.869  10.279  2.249  0.001   \n",
       "3  4335.3  8.672  0.046  81.743  138.684  0.209  6.956  10.554  2.231  0.001   \n",
       "4  4335.4  8.693  0.042  82.183  139.234  0.202  7.019  11.559  2.231  0.001   \n",
       "\n",
       "    PHIF    VSH  \n",
       "0  0.091  0.794  \n",
       "1  0.088  0.785  \n",
       "2  0.089  0.783  \n",
       "3  0.090  0.765  \n",
       "4  0.090  0.763  "
      ]
     },
     "execution_count": 13,
     "metadata": {},
     "output_type": "execute_result"
    }
   ],
   "source": [
    "df = pd.read_csv('Volvo T2 vsh - Copy.csv')\n",
    "df.head()"
   ]
  },
  {
   "cell_type": "code",
   "execution_count": 14,
   "metadata": {},
   "outputs": [
    {
     "data": {
      "text/html": [
       "<div>\n",
       "<style scoped>\n",
       "    .dataframe tbody tr th:only-of-type {\n",
       "        vertical-align: middle;\n",
       "    }\n",
       "\n",
       "    .dataframe tbody tr th {\n",
       "        vertical-align: top;\n",
       "    }\n",
       "\n",
       "    .dataframe thead th {\n",
       "        text-align: right;\n",
       "    }\n",
       "</style>\n",
       "<table border=\"1\" class=\"dataframe\">\n",
       "  <thead>\n",
       "    <tr style=\"text-align: right;\">\n",
       "      <th></th>\n",
       "      <th>DEPTH</th>\n",
       "      <th>CALI</th>\n",
       "      <th>DRHO</th>\n",
       "      <th>DT</th>\n",
       "      <th>DTS</th>\n",
       "      <th>NPHI</th>\n",
       "      <th>PEF</th>\n",
       "      <th>ROP</th>\n",
       "      <th>RT</th>\n",
       "      <th>KLOGH</th>\n",
       "      <th>PHIF</th>\n",
       "      <th>VSH</th>\n",
       "    </tr>\n",
       "  </thead>\n",
       "  <tbody>\n",
       "    <tr>\n",
       "      <th>count</th>\n",
       "      <td>1780.000000</td>\n",
       "      <td>1780.000000</td>\n",
       "      <td>1780.000000</td>\n",
       "      <td>1780.000000</td>\n",
       "      <td>1780.000000</td>\n",
       "      <td>1780.000000</td>\n",
       "      <td>1780.000000</td>\n",
       "      <td>1780.000000</td>\n",
       "      <td>1780.000000</td>\n",
       "      <td>1780.000000</td>\n",
       "      <td>1780.000000</td>\n",
       "      <td>1780.000000</td>\n",
       "    </tr>\n",
       "    <tr>\n",
       "      <th>mean</th>\n",
       "      <td>4423.950000</td>\n",
       "      <td>8.693886</td>\n",
       "      <td>0.063503</td>\n",
       "      <td>77.140040</td>\n",
       "      <td>129.810667</td>\n",
       "      <td>0.179833</td>\n",
       "      <td>6.338186</td>\n",
       "      <td>15.046517</td>\n",
       "      <td>4.295005</td>\n",
       "      <td>118.359406</td>\n",
       "      <td>0.113152</td>\n",
       "      <td>0.329489</td>\n",
       "    </tr>\n",
       "    <tr>\n",
       "      <th>std</th>\n",
       "      <td>51.398606</td>\n",
       "      <td>0.036901</td>\n",
       "      <td>0.016325</td>\n",
       "      <td>8.309913</td>\n",
       "      <td>17.661493</td>\n",
       "      <td>0.068251</td>\n",
       "      <td>1.021979</td>\n",
       "      <td>4.094589</td>\n",
       "      <td>16.853898</td>\n",
       "      <td>253.338792</td>\n",
       "      <td>0.063103</td>\n",
       "      <td>0.256952</td>\n",
       "    </tr>\n",
       "    <tr>\n",
       "      <th>min</th>\n",
       "      <td>4335.000000</td>\n",
       "      <td>8.625000</td>\n",
       "      <td>-0.002000</td>\n",
       "      <td>48.928000</td>\n",
       "      <td>74.823000</td>\n",
       "      <td>-0.003000</td>\n",
       "      <td>4.836000</td>\n",
       "      <td>2.994000</td>\n",
       "      <td>0.186000</td>\n",
       "      <td>0.001000</td>\n",
       "      <td>0.001000</td>\n",
       "      <td>0.021000</td>\n",
       "    </tr>\n",
       "    <tr>\n",
       "      <th>25%</th>\n",
       "      <td>4379.475000</td>\n",
       "      <td>8.672000</td>\n",
       "      <td>0.056000</td>\n",
       "      <td>72.884500</td>\n",
       "      <td>121.816000</td>\n",
       "      <td>0.145000</td>\n",
       "      <td>5.570500</td>\n",
       "      <td>14.683500</td>\n",
       "      <td>0.463750</td>\n",
       "      <td>0.001000</td>\n",
       "      <td>0.059000</td>\n",
       "      <td>0.127000</td>\n",
       "    </tr>\n",
       "    <tr>\n",
       "      <th>50%</th>\n",
       "      <td>4423.950000</td>\n",
       "      <td>8.672000</td>\n",
       "      <td>0.062000</td>\n",
       "      <td>77.509000</td>\n",
       "      <td>131.666000</td>\n",
       "      <td>0.178000</td>\n",
       "      <td>6.129000</td>\n",
       "      <td>14.897000</td>\n",
       "      <td>1.222000</td>\n",
       "      <td>8.383000</td>\n",
       "      <td>0.113000</td>\n",
       "      <td>0.210500</td>\n",
       "    </tr>\n",
       "    <tr>\n",
       "      <th>75%</th>\n",
       "      <td>4468.425000</td>\n",
       "      <td>8.703000</td>\n",
       "      <td>0.070000</td>\n",
       "      <td>82.906250</td>\n",
       "      <td>139.510250</td>\n",
       "      <td>0.222000</td>\n",
       "      <td>6.779000</td>\n",
       "      <td>14.971000</td>\n",
       "      <td>2.184750</td>\n",
       "      <td>126.489250</td>\n",
       "      <td>0.172000</td>\n",
       "      <td>0.550000</td>\n",
       "    </tr>\n",
       "    <tr>\n",
       "      <th>max</th>\n",
       "      <td>4512.900000</td>\n",
       "      <td>8.992000</td>\n",
       "      <td>0.197000</td>\n",
       "      <td>108.353000</td>\n",
       "      <td>193.837000</td>\n",
       "      <td>0.424000</td>\n",
       "      <td>11.537000</td>\n",
       "      <td>24.012000</td>\n",
       "      <td>222.752000</td>\n",
       "      <td>2247.904000</td>\n",
       "      <td>0.245000</td>\n",
       "      <td>0.864000</td>\n",
       "    </tr>\n",
       "  </tbody>\n",
       "</table>\n",
       "</div>"
      ],
      "text/plain": [
       "             DEPTH         CALI         DRHO           DT          DTS  \\\n",
       "count  1780.000000  1780.000000  1780.000000  1780.000000  1780.000000   \n",
       "mean   4423.950000     8.693886     0.063503    77.140040   129.810667   \n",
       "std      51.398606     0.036901     0.016325     8.309913    17.661493   \n",
       "min    4335.000000     8.625000    -0.002000    48.928000    74.823000   \n",
       "25%    4379.475000     8.672000     0.056000    72.884500   121.816000   \n",
       "50%    4423.950000     8.672000     0.062000    77.509000   131.666000   \n",
       "75%    4468.425000     8.703000     0.070000    82.906250   139.510250   \n",
       "max    4512.900000     8.992000     0.197000   108.353000   193.837000   \n",
       "\n",
       "              NPHI          PEF          ROP           RT        KLOGH  \\\n",
       "count  1780.000000  1780.000000  1780.000000  1780.000000  1780.000000   \n",
       "mean      0.179833     6.338186    15.046517     4.295005   118.359406   \n",
       "std       0.068251     1.021979     4.094589    16.853898   253.338792   \n",
       "min      -0.003000     4.836000     2.994000     0.186000     0.001000   \n",
       "25%       0.145000     5.570500    14.683500     0.463750     0.001000   \n",
       "50%       0.178000     6.129000    14.897000     1.222000     8.383000   \n",
       "75%       0.222000     6.779000    14.971000     2.184750   126.489250   \n",
       "max       0.424000    11.537000    24.012000   222.752000  2247.904000   \n",
       "\n",
       "              PHIF          VSH  \n",
       "count  1780.000000  1780.000000  \n",
       "mean      0.113152     0.329489  \n",
       "std       0.063103     0.256952  \n",
       "min       0.001000     0.021000  \n",
       "25%       0.059000     0.127000  \n",
       "50%       0.113000     0.210500  \n",
       "75%       0.172000     0.550000  \n",
       "max       0.245000     0.864000  "
      ]
     },
     "execution_count": 14,
     "metadata": {},
     "output_type": "execute_result"
    }
   ],
   "source": [
    "df.describe()"
   ]
  },
  {
   "cell_type": "code",
   "execution_count": 15,
   "metadata": {},
   "outputs": [],
   "source": [
    "# selecting features and label\n",
    "X = df.iloc[:, :-1]  # features\n",
    "y = df.iloc[:,-1]  #label}"
   ]
  },
  {
   "cell_type": "code",
   "execution_count": 16,
   "metadata": {},
   "outputs": [
    {
     "data": {
      "text/plain": [
       "[(1780, 11), (1780,)]"
      ]
     },
     "execution_count": 16,
     "metadata": {},
     "output_type": "execute_result"
    }
   ],
   "source": [
    "[X.shape, y.shape]"
   ]
  },
  {
   "cell_type": "code",
   "execution_count": 17,
   "metadata": {},
   "outputs": [],
   "source": [
    "# spliting into training and testing set for both X and y\n",
    "from sklearn.model_selection import train_test_split\n",
    "X_train, X_test, y_train, y_test = train_test_split(X,y, test_size=0.3, random_state=2 )\n",
    "\n",
    "# Standardization\n",
    "from sklearn.preprocessing import StandardScaler\n",
    "\n",
    "# transforming X_train value to feed to the model\n",
    "scaler = StandardScaler()\n",
    "X_train_scaled = scaler.fit_transform(X_train)\n",
    "\n",
    "# transforming X_test value for predicting for new cases\n",
    "X_test_scaled = scaler.transform(X_test)"
   ]
  },
  {
   "cell_type": "code",
   "execution_count": 18,
   "metadata": {},
   "outputs": [],
   "source": [
    "# function to convert seconds to into hours, minutes and seconds\n",
    "# this function is used to measure the running time of any model\n",
    "def convert(seconds):\n",
    "    seconds = seconds % (24 * 3600)\n",
    "    hour = seconds // 3600\n",
    "    seconds %= 3600\n",
    "    minutes = seconds // 60\n",
    "    seconds %= 60\n",
    "      \n",
    "    return \"%d:%02d:%02d\" % (hour, minutes, seconds)"
   ]
  },
  {
   "cell_type": "markdown",
   "metadata": {},
   "source": [
    "### Loading the linear regression model from sklearn\n",
    "### Fit the model, do the prediction"
   ]
  },
  {
   "cell_type": "code",
   "execution_count": 19,
   "metadata": {},
   "outputs": [],
   "source": [
    "from sklearn.preprocessing import PolynomialFeatures\n",
    "from sklearn.linear_model import LinearRegression\n",
    "from sklearn.pipeline import make_pipeline\n",
    "from sklearn.model_selection import train_test_split\n",
    "from sklearn.metrics import mean_squared_error, r2_score\n",
    "import numpy as np\n",
    "\n",
    "\n",
    "degree =2\n",
    "model = make_pipeline(PolynomialFeatures(degree), LinearRegression())\n",
    "\n",
    "model.fit(X_train_scaled, y_train)\n",
    "\n",
    "pred_1 = model.predict(X_train_scaled)\n",
    "pred_2= model.predict(X_test_scaled)\n"
   ]
  },
  {
   "cell_type": "code",
   "execution_count": 20,
   "metadata": {},
   "outputs": [],
   "source": [
    "# Assuming you have already defined and fitted your model\n",
    "# Accessing intercept\n",
    "intercept = model.named_steps['linearregression'].intercept_\n",
    "\n",
    "# Accessing coefficients\n",
    "coefficients = model.named_steps['linearregression'].coef_\n"
   ]
  },
  {
   "cell_type": "code",
   "execution_count": 21,
   "metadata": {},
   "outputs": [
    {
     "data": {
      "text/plain": [
       "0.2580400575454336"
      ]
     },
     "execution_count": 21,
     "metadata": {},
     "output_type": "execute_result"
    }
   ],
   "source": [
    "intercept"
   ]
  },
  {
   "cell_type": "code",
   "execution_count": 22,
   "metadata": {},
   "outputs": [
    {
     "data": {
      "text/plain": [
       "array([-1.07817045e-16, -4.52724037e-02,  4.84914414e-03, -1.10161781e-02,\n",
       "       -4.48384994e-02,  4.04734760e-02,  1.06093748e-01, -1.89146406e-02,\n",
       "        5.98986179e-03,  4.41770029e-01, -3.28979957e-01,  8.73967293e-02,\n",
       "        9.38189806e-02, -1.36729801e-02,  1.02038054e-02, -3.45819305e-03,\n",
       "        3.05812549e-03, -1.80416047e-02,  1.69319520e-02, -5.67107851e-04,\n",
       "       -1.01626312e-01,  2.21498191e-02, -3.08348090e-02, -1.47038907e-03,\n",
       "        3.85188201e-03, -5.89950466e-03,  4.77975410e-03,  1.19468207e-02,\n",
       "       -1.25721505e-02, -8.81659681e-03, -5.47155983e-03, -1.14290340e-02,\n",
       "        1.29866999e-02,  3.17135450e-04,  6.46998705e-03, -2.84852320e-03,\n",
       "        1.37221754e-03, -1.53585001e-03, -2.59600177e-03, -1.09573167e-02,\n",
       "        1.35561264e-02,  1.30056287e-03,  2.54248250e-02, -2.85074778e-02,\n",
       "       -2.18945096e-02,  2.62382466e-02, -2.64559226e-02, -3.41574938e-02,\n",
       "       -7.27694984e-03, -1.79448872e-02,  6.69363565e-03,  2.31985338e-02,\n",
       "       -4.73624536e-02,  2.56473096e-02,  8.13436396e-02, -5.44707489e-03,\n",
       "       -1.89260141e-03, -2.59372042e-03, -1.31193367e-02,  1.70827239e-02,\n",
       "       -7.53427788e-02, -1.49853169e-01,  4.74862061e-02, -1.53485618e-03,\n",
       "       -2.33868217e-02, -2.01599747e-02,  1.00431162e-02,  2.93157271e-03,\n",
       "       -3.12645633e-03,  1.20270619e-02,  2.10173791e-02, -2.66804189e-02,\n",
       "       -2.25185460e-03, -2.49477507e-01,  3.15441229e-01, -7.44639120e-04,\n",
       "        1.58694901e-01, -1.32771675e-02])"
      ]
     },
     "execution_count": 22,
     "metadata": {},
     "output_type": "execute_result"
    }
   ],
   "source": [
    "coefficients"
   ]
  },
  {
   "cell_type": "code",
   "execution_count": null,
   "metadata": {},
   "outputs": [],
   "source": []
  },
  {
   "cell_type": "code",
   "execution_count": 23,
   "metadata": {},
   "outputs": [],
   "source": [
    "import os\n",
    "\n",
    "# Create the output/cnn directory if it doesn't exist\n",
    "output_dir = \"./output/polynomial regression\"\n",
    "os.makedirs(output_dir, exist_ok=True)"
   ]
  },
  {
   "cell_type": "code",
   "execution_count": 24,
   "metadata": {},
   "outputs": [],
   "source": [
    "# saving training, testing and y data with their predicted data in a excel file with different sheets\n",
    "a = np.stack([y_train, pred_1], axis=1) # training\n",
    "a = pd.DataFrame(a, columns=['y_train', 'y_train_pred'])\n",
    "\n",
    "b = np.stack([y_test, pred_2], axis=1) # testing \n",
    "b = pd.DataFrame(b, columns=['y_test', 'y_test_pred'])\n",
    "\n",
    "with pd.ExcelWriter(\"./output/polynomial regression/predicted_mvr_model.xlsx\") as writer:\n",
    "    # use to_excel function and specify the sheet_name and index\n",
    "    # to store the dataframe in specified sheet\n",
    "    a.to_excel(writer, sheet_name=\"training\", index=True)\n",
    "    b.to_excel(writer, sheet_name=\"testing\", index=True)"
   ]
  },
  {
   "cell_type": "markdown",
   "metadata": {},
   "source": [
    "### Evaluation Metrics for testing set"
   ]
  },
  {
   "cell_type": "code",
   "execution_count": 25,
   "metadata": {},
   "outputs": [
    {
     "data": {
      "text/html": [
       "<div>\n",
       "<style scoped>\n",
       "    .dataframe tbody tr th:only-of-type {\n",
       "        vertical-align: middle;\n",
       "    }\n",
       "\n",
       "    .dataframe tbody tr th {\n",
       "        vertical-align: top;\n",
       "    }\n",
       "\n",
       "    .dataframe thead th {\n",
       "        text-align: right;\n",
       "    }\n",
       "</style>\n",
       "<table border=\"1\" class=\"dataframe\">\n",
       "  <thead>\n",
       "    <tr style=\"text-align: right;\">\n",
       "      <th></th>\n",
       "      <th>0</th>\n",
       "      <th>1</th>\n",
       "      <th>2</th>\n",
       "      <th>3</th>\n",
       "      <th>4</th>\n",
       "      <th>5</th>\n",
       "      <th>6</th>\n",
       "      <th>7</th>\n",
       "    </tr>\n",
       "  </thead>\n",
       "  <tbody>\n",
       "    <tr>\n",
       "      <th>performance_metrics</th>\n",
       "      <td>R2</td>\n",
       "      <td>MAE</td>\n",
       "      <td>MSE</td>\n",
       "      <td>RMSE</td>\n",
       "      <td>MAPE</td>\n",
       "      <td>EV</td>\n",
       "      <td>maxE</td>\n",
       "      <td>minE</td>\n",
       "    </tr>\n",
       "    <tr>\n",
       "      <th>training</th>\n",
       "      <td>0.955358</td>\n",
       "      <td>0.04003</td>\n",
       "      <td>0.002935</td>\n",
       "      <td>0.218024</td>\n",
       "      <td>0.05418</td>\n",
       "      <td>0.955358</td>\n",
       "      <td>0.355304</td>\n",
       "      <td>0.00005</td>\n",
       "    </tr>\n",
       "    <tr>\n",
       "      <th>testing</th>\n",
       "      <td>0.921105</td>\n",
       "      <td>0.046318</td>\n",
       "      <td>0.005242</td>\n",
       "      <td>0.072402</td>\n",
       "      <td>0.315778</td>\n",
       "      <td>0.921105</td>\n",
       "      <td>0.663153</td>\n",
       "      <td>0.000082</td>\n",
       "    </tr>\n",
       "  </tbody>\n",
       "</table>\n",
       "</div>"
      ],
      "text/plain": [
       "                            0         1         2         3         4  \\\n",
       "performance_metrics        R2       MAE       MSE      RMSE      MAPE   \n",
       "training             0.955358   0.04003  0.002935  0.218024   0.05418   \n",
       "testing              0.921105  0.046318  0.005242  0.072402  0.315778   \n",
       "\n",
       "                            5         6         7  \n",
       "performance_metrics        EV      maxE      minE  \n",
       "training             0.955358  0.355304   0.00005  \n",
       "testing              0.921105  0.663153  0.000082  "
      ]
     },
     "execution_count": 25,
     "metadata": {},
     "output_type": "execute_result"
    }
   ],
   "source": [
    "from sklearn.metrics import r2_score\n",
    "from sklearn.metrics import mean_absolute_error\n",
    "from sklearn.metrics import mean_squared_error\n",
    "from sklearn.metrics import mean_absolute_percentage_error\n",
    "from sklearn.metrics import explained_variance_score\n",
    "from sklearn.metrics import max_error\n",
    "\n",
    "\n",
    "train_r2 = r2_score(y_train,pred_1) # r2_score for training set\n",
    "train_mae = mean_absolute_error(y_train, pred_1) # mean absolute error for training set\n",
    "train_mse = mean_squared_error(y_train, pred_1) # mean squared error for training set\n",
    "train_rmse = np.sqrt(mean_squared_error(y_train, pred_1)) # mean squared error for training set\n",
    "train_mape = mean_absolute_percentage_error(y_train, pred_1) # mean_absolute_percentage_error for training set\n",
    "train_ev = explained_variance_score(y_train, pred_1) \n",
    "train_maxE = max_error(y_train, pred_1)\n",
    "train_minE = min(abs(y_train - pred_1))\n",
    "\n",
    "test_r2 = r2_score(y_test, pred_2) # r2_score for testing set\n",
    "test_mae = mean_absolute_error(y_test, pred_2) # mean absolute error for testing set\n",
    "test_mse = mean_squared_error(y_test, pred_2) # mean squared error for testing set\n",
    "test_rmse = np.sqrt(mean_squared_error(y_test, pred_2))\n",
    "test_mape = mean_absolute_percentage_error(y_test, pred_2) # mean_absolute_percentage_error for testing set\n",
    "test_ev = explained_variance_score(y_test, pred_2) \n",
    "test_maxE = max_error(y_test, pred_2)\n",
    "test_minE = min(abs(y_test - pred_2))\n",
    "\n",
    "\n",
    "metrics = {\n",
    "'performance_metrics': ['R2', 'MAE', 'MSE','RMSE','MAPE', 'EV', 'maxE', 'minE'],\n",
    "'training': [train_r2, train_mae, train_mse, train_mape,train_rmse, train_ev, train_maxE, train_minE],\n",
    "'testing': [test_r2, test_mae, test_mse,test_rmse, test_mape, test_ev, test_maxE, test_minE]\n",
    "}\n",
    "\n",
    "performance_metrics = pd.DataFrame(metrics)\n",
    "performance = performance_metrics.transpose()\n",
    "performance.to_csv('./output/polynomial regression/performance_mvr.csv')\n",
    "performance"
   ]
  },
  {
   "cell_type": "markdown",
   "metadata": {},
   "source": [
    "### Saving trained model to a file and reading the same file using pickle module"
   ]
  },
  {
   "cell_type": "code",
   "execution_count": 27,
   "metadata": {},
   "outputs": [
    {
     "data": {
      "text/plain": [
       "['./output/polynomial regression/trained_linear_regression_model_10.joblib']"
      ]
     },
     "execution_count": 27,
     "metadata": {},
     "output_type": "execute_result"
    }
   ],
   "source": [
    "#from sklearn.externals import joblib\n",
    "from joblib import dump, load\n",
    "dump(model, './output/polynomial regression/trained_linear_regression_model_10.joblib') \n",
    "\n",
    "#clf = load('trained_linear_regression_model.joblib')"
   ]
  },
  {
   "cell_type": "markdown",
   "metadata": {},
   "source": [
    "### Regression plot for testing set"
   ]
  },
  {
   "cell_type": "code",
   "execution_count": null,
   "metadata": {},
   "outputs": [],
   "source": []
  }
 ],
 "metadata": {
  "kernelspec": {
   "display_name": "Python 3 (ipykernel)",
   "language": "python",
   "name": "python3"
  },
  "language_info": {
   "codemirror_mode": {
    "name": "ipython",
    "version": 3
   },
   "file_extension": ".py",
   "mimetype": "text/x-python",
   "name": "python",
   "nbconvert_exporter": "python",
   "pygments_lexer": "ipython3",
   "version": "3.11.4"
  },
  "vscode": {
   "interpreter": {
    "hash": "dfba1fbeaf81153adab873487c2c8786fcedc405434a7dba5115050d3edc9202"
   }
  }
 },
 "nbformat": 4,
 "nbformat_minor": 4
}
